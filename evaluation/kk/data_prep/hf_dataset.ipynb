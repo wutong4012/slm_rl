{
 "cells": [
  {
   "cell_type": "code",
   "execution_count": 1,
   "metadata": {},
   "outputs": [
    {
     "data": {
      "text/plain": [
       "DatasetDict({\n",
       "    2ppl: Dataset({\n",
       "        features: ['quiz', 'names', 'knight_knave', 'solution', 'solution_text', 'solution_text_format', 'cot_head', 'cot_repeat_steps', 'cot_foot', 'statements', 'index'],\n",
       "        num_rows: 200\n",
       "    })\n",
       "    3ppl: Dataset({\n",
       "        features: ['quiz', 'names', 'knight_knave', 'solution', 'solution_text', 'solution_text_format', 'cot_head', 'cot_repeat_steps', 'cot_foot', 'statements', 'index'],\n",
       "        num_rows: 1000\n",
       "    })\n",
       "    4ppl: Dataset({\n",
       "        features: ['quiz', 'names', 'knight_knave', 'solution', 'solution_text', 'solution_text_format', 'cot_head', 'cot_repeat_steps', 'cot_foot', 'statements', 'index'],\n",
       "        num_rows: 1000\n",
       "    })\n",
       "    5ppl: Dataset({\n",
       "        features: ['quiz', 'names', 'knight_knave', 'solution', 'solution_text', 'solution_text_format', 'cot_head', 'cot_repeat_steps', 'cot_foot', 'statements', 'index'],\n",
       "        num_rows: 1000\n",
       "    })\n",
       "    6ppl: Dataset({\n",
       "        features: ['quiz', 'names', 'knight_knave', 'solution', 'solution_text', 'solution_text_format', 'cot_head', 'cot_repeat_steps', 'cot_foot', 'statements', 'index'],\n",
       "        num_rows: 1000\n",
       "    })\n",
       "    7ppl: Dataset({\n",
       "        features: ['quiz', 'names', 'knight_knave', 'solution', 'solution_text', 'solution_text_format', 'cot_head', 'cot_repeat_steps', 'cot_foot', 'statements', 'index'],\n",
       "        num_rows: 1000\n",
       "    })\n",
       "    8ppl: Dataset({\n",
       "        features: ['quiz', 'names', 'knight_knave', 'solution', 'solution_text', 'solution_text_format', 'cot_head', 'cot_repeat_steps', 'cot_foot', 'statements', 'index'],\n",
       "        num_rows: 1000\n",
       "    })\n",
       "})"
      ]
     },
     "execution_count": 1,
     "metadata": {},
     "output_type": "execute_result"
    }
   ],
   "source": [
    "import datasets\n",
    "\n",
    "train_ds = datasets.load_dataset('K-and-K/knights-and-knaves', 'train')\n",
    "train_ds"
   ]
  },
  {
   "cell_type": "code",
   "execution_count": 2,
   "metadata": {},
   "outputs": [
    {
     "data": {
      "application/vnd.jupyter.widget-view+json": {
       "model_id": "44113ef10150435697a2f3951ca3cd2a",
       "version_major": 2,
       "version_minor": 0
      },
      "text/plain": [
       "Creating json from Arrow format:   0%|          | 0/1 [00:00<?, ?ba/s]"
      ]
     },
     "metadata": {},
     "output_type": "display_data"
    },
    {
     "data": {
      "text/plain": [
       "DatasetDict({\n",
       "    2ppl: Dataset({\n",
       "        features: ['quiz', 'names', 'knight_knave', 'solution', 'solution_text', 'solution_text_format', 'cot_head', 'cot_repeat_steps', 'cot_foot', 'statements', 'index'],\n",
       "        num_rows: 200\n",
       "    })\n",
       "    3ppl: Dataset({\n",
       "        features: ['quiz', 'names', 'knight_knave', 'solution', 'solution_text', 'solution_text_format', 'cot_head', 'cot_repeat_steps', 'cot_foot', 'statements', 'index'],\n",
       "        num_rows: 1000\n",
       "    })\n",
       "    4ppl: Dataset({\n",
       "        features: ['quiz', 'names', 'knight_knave', 'solution', 'solution_text', 'solution_text_format', 'cot_head', 'cot_repeat_steps', 'cot_foot', 'statements', 'index'],\n",
       "        num_rows: 1000\n",
       "    })\n",
       "    5ppl: Dataset({\n",
       "        features: ['quiz', 'names', 'knight_knave', 'solution', 'solution_text', 'solution_text_format', 'cot_head', 'cot_repeat_steps', 'cot_foot', 'statements', 'index'],\n",
       "        num_rows: 1000\n",
       "    })\n",
       "    6ppl: Dataset({\n",
       "        features: ['quiz', 'names', 'knight_knave', 'solution', 'solution_text', 'solution_text_format', 'cot_head', 'cot_repeat_steps', 'cot_foot', 'statements', 'index'],\n",
       "        num_rows: 1000\n",
       "    })\n",
       "    7ppl: Dataset({\n",
       "        features: ['quiz', 'names', 'knight_knave', 'solution', 'solution_text', 'solution_text_format', 'cot_head', 'cot_repeat_steps', 'cot_foot', 'statements', 'index'],\n",
       "        num_rows: 1000\n",
       "    })\n",
       "    8ppl: Dataset({\n",
       "        features: ['quiz', 'names', 'knight_knave', 'solution', 'solution_text', 'solution_text_format', 'cot_head', 'cot_repeat_steps', 'cot_foot', 'statements', 'index'],\n",
       "        num_rows: 1000\n",
       "    })\n",
       "})"
      ]
     },
     "execution_count": 2,
     "metadata": {},
     "output_type": "execute_result"
    }
   ],
   "source": [
    "train_ds[\"4ppl\"].to_json(\"people4_num1000.jsonl\")\n",
    "train_ds"
   ]
  },
  {
   "cell_type": "code",
   "execution_count": null,
   "metadata": {},
   "outputs": [],
   "source": [
    "kk_dataset =  datasets.load_dataset('K-and-K/knights-and-knaves',data_files={\n",
    "            \"train\": [\"train/people2_num200.jsonl\"],\n",
    "            \"test\": [\"test/people2_num100.jsonl\"],\n",
    "        },)\n"
   ]
  },
  {
   "cell_type": "code",
   "execution_count": null,
   "metadata": {},
   "outputs": [],
   "source": [
    "kk_dataset"
   ]
  },
  {
   "cell_type": "code",
   "execution_count": null,
   "metadata": {},
   "outputs": [],
   "source": [
    "train_ds = datasets.load_dataset('K-and-K/perturbed-knights-and-knaves',data_files=\"test/random_pair/people2_num100.jsonl\")"
   ]
  },
  {
   "cell_type": "code",
   "execution_count": null,
   "metadata": {},
   "outputs": [],
   "source": [
    "train_ds['train'].select(range(5))"
   ]
  }
 ],
 "metadata": {
  "kernelspec": {
   "display_name": "rl",
   "language": "python",
   "name": "python3"
  },
  "language_info": {
   "codemirror_mode": {
    "name": "ipython",
    "version": 3
   },
   "file_extension": ".py",
   "mimetype": "text/x-python",
   "name": "python",
   "nbconvert_exporter": "python",
   "pygments_lexer": "ipython3",
   "version": "3.9.21"
  }
 },
 "nbformat": 4,
 "nbformat_minor": 2
}
